{
 "cells": [
  {
   "cell_type": "markdown",
   "id": "913287c6",
   "metadata": {},
   "source": [
    "stats 503,homework1"
   ]
  },
  {
   "cell_type": "markdown",
   "id": "705f01e4",
   "metadata": {},
   "source": [
    "1. Consider the population of students taking STATS 503 this semester at the University of\n",
    "Michigan.\n",
    "(a) [3 points] Name three variables related to academics that you could collect or mea-\n",
    "sure about each student in this population. Of these three variables, one must be ordinal,\n",
    "one must be categorical, and one must be continuous"
   ]
  },
  {
   "cell_type": "markdown",
   "id": "e1a7b89e",
   "metadata": {},
   "source": [
    "ordinal: the overall grades each student get last semester\n",
    "categorical: the number of lessons each student take this semester\n",
    "continuous: the amount of hours each student specd on 503"
   ]
  },
  {
   "cell_type": "markdown",
   "id": "fcaf5c1a",
   "metadata": {},
   "source": [
    "(b) [3 points] Suppose you have collected a dataset containing these variables for the pop-\n",
    "ulation of students taking STATS 503 this semester. Now consider using this dataset to\n",
    "make inferences about a different population. Name another population about which we\n",
    "could plausibly make inferences. Name another population that would be more difficult\n",
    "to make inferences about"
   ]
  },
  {
   "cell_type": "markdown",
   "id": "a5e83274",
   "metadata": {},
   "source": [
    "plausible: graduate students majoring in applied statistics at the first year.\n",
    "difficult: high school students in Ann Arbor."
   ]
  },
  {
   "cell_type": "markdown",
   "id": "bcd62a8e",
   "metadata": {},
   "source": [
    "2. Explain whether each scenario is a classification or regression problem, and indicate whether\n",
    "we are most interested in inference or prediction. Finally, provide the number of samples (n)\n",
    "and the number of features (p).\n",
    "(a) [3 points] We collect a set of data on the top 500 firms in the United States. For each\n",
    "firm, we record the profit, the number of employees, the industry, and the CEO salary.\n",
    "We are interested in understanding which factors affect CEO salary."
   ]
  },
  {
   "cell_type": "markdown",
   "id": "36f085d7",
   "metadata": {},
   "source": [
    "It's regression as the salary of CEO is continuous. We are more interested in inference as the goal is to understand CEO salary is depended by which factors. n=500,p=3"
   ]
  },
  {
   "cell_type": "markdown",
   "id": "aabaa2bb",
   "metadata": {},
   "source": [
    "(b) [3 points] We are considering releasing a new product and want to know whether it will\n",
    "be a success or a failure. We collect data on 20 similar products that were previously\n",
    "launched. For each product, we have recorded whether it was a success or failure, the\n",
    "price charged for the product, the marketing budget, the competition price, and ten\n",
    "other variables"
   ]
  },
  {
   "cell_type": "markdown",
   "id": "c3165922",
   "metadata": {},
   "source": [
    "It's classification as the response is categorical (success,failure). We are more interested in prediction as the goal is to predict the result of new product based on factors. n=20,p=13"
   ]
  },
  {
   "cell_type": "markdown",
   "id": "1d0fec93",
   "metadata": {},
   "source": [
    "(c) [3 points] We are interested in predicting the percentage change in the USD/Euro\n",
    "exchange rate in relation to the weekly changes in the world stock markets. Hence, we\n",
    "collect weekly data for all of 2012. For each week, we record the percent change in\n",
    "the USD/Euro, the precent change in the US market, the percent change in the British\n",
    "market, and the percent change in the German market."
   ]
  },
  {
   "cell_type": "markdown",
   "id": "45bfbd3e",
   "metadata": {},
   "source": [
    "It's regression as the response is continuous. We are more interested in prediction as the goal is to predict the percentage change of exchange rate. n=52,p=3"
   ]
  },
  {
   "cell_type": "markdown",
   "id": "90ff71d9",
   "metadata": {},
   "source": [
    "3. [3 points] You have a dataset. You are considering a collection of different methods that you\n",
    "could apply to this dataset in order to estimate the regression function. The methods range\n",
    "from very inflexible (only capable of representing a small class of true regression functions)\n",
    "to very flexible (capable of fitting a very large class of true regression functions).\n",
    "(a) True or false: typically, the bias of your estimate will be lower with more flexible methods"
   ]
  },
  {
   "cell_type": "markdown",
   "id": "91407f49",
   "metadata": {},
   "source": [
    "True"
   ]
  },
  {
   "cell_type": "markdown",
   "id": "e6aec511",
   "metadata": {},
   "source": [
    "(b) True or false: typically, the variance of your estimate will be lower with more flexible\n",
    "methods"
   ]
  },
  {
   "cell_type": "markdown",
   "id": "e6668465",
   "metadata": {},
   "source": [
    "False"
   ]
  },
  {
   "cell_type": "markdown",
   "id": "44649cc6",
   "metadata": {},
   "source": [
    "(c) True or false: typically, irreducible error will be lower with more flexible methods"
   ]
  },
  {
   "cell_type": "markdown",
   "id": "c3c095a6",
   "metadata": {},
   "source": [
    "False"
   ]
  },
  {
   "cell_type": "markdown",
   "id": "ac2da670",
   "metadata": {},
   "source": [
    "4. [4 points] Consider gathering a dataset and using it to estimate the regression function.\n",
    "Assume the data-generating distribution is well behaved (e.g., assume that the true regression\n",
    "function is continuous) and typical of what we would find in real-world settings. Answer true\n",
    "or false.\n",
    "(a) As the size of your training dataset tends to infinity (for a fixed number of neighbors,\n",
    "K), the bias of the KNN regression estimate will tend to 0."
   ]
  },
  {
   "cell_type": "markdown",
   "id": "70aad764",
   "metadata": {},
   "source": [
    "True"
   ]
  },
  {
   "cell_type": "markdown",
   "id": "415eb2ca",
   "metadata": {},
   "source": [
    "(b) As the size of your training dataset tends to infinity (for a fixed number of neighbors,\n",
    "K), the variance of the KNN regression estimate will tend to 0"
   ]
  },
  {
   "cell_type": "markdown",
   "id": "ee66798a",
   "metadata": {},
   "source": [
    "False"
   ]
  },
  {
   "cell_type": "markdown",
   "id": "4740b195",
   "metadata": {},
   "source": [
    "(c) As the size of your training dataset tends to infinity, the bias of a least squares linear\n",
    "regression estimate will tend to zero."
   ]
  },
  {
   "cell_type": "markdown",
   "id": "c30b24ca",
   "metadata": {},
   "source": [
    "False"
   ]
  },
  {
   "cell_type": "markdown",
   "id": "6bf6d748",
   "metadata": {},
   "source": [
    "(d) As the size of your training dataset tends to infinity, the variance of a least squares linear\n",
    "regression estimate will tend to 0"
   ]
  },
  {
   "cell_type": "markdown",
   "id": "31aa480c",
   "metadata": {},
   "source": [
    "True"
   ]
  },
  {
   "cell_type": "markdown",
   "id": "bad3553d",
   "metadata": {},
   "source": [
    "5. Download the college_train data set from canvas and load it as a data frame.\n",
    "(a) [1 points] Access the shape property of your data frame to compute the number of\n",
    "samples we have and the number of variables measured about each sample."
   ]
  },
  {
   "cell_type": "code",
   "execution_count": 7,
   "id": "91b7829d",
   "metadata": {},
   "outputs": [
    {
     "name": "stdout",
     "output_type": "stream",
     "text": [
      "650\n",
      "19\n"
     ]
    }
   ],
   "source": [
    "import pandas as pd\n",
    "import numpy as np\n",
    "cotr=pd.read_csv(\"C:\\\\Users\\\\DELL\\\\Downloads\\\\college_train.csv\")\n",
    "print(cotr.shape[0])\n",
    "print(cotr.shape[1])"
   ]
  },
  {
   "cell_type": "markdown",
   "id": "8f0353c4",
   "metadata": {},
   "source": [
    "(b) [1 points] Compute the mean and standard deviation of the Books feature"
   ]
  },
  {
   "cell_type": "code",
   "execution_count": 10,
   "id": "23b2ef9a",
   "metadata": {},
   "outputs": [
    {
     "name": "stdout",
     "output_type": "stream",
     "text": [
      "551.6553846153846\n",
      "168.64335324879596\n"
     ]
    }
   ],
   "source": [
    "print(cotr[\"Books\"].mean())\n",
    "print(cotr[\"Books\"].std())"
   ]
  },
  {
   "cell_type": "markdown",
   "id": "7be10bc9",
   "metadata": {},
   "source": [
    "(c) [2 points] For how many samples is the Terminal feature at least 90?"
   ]
  },
  {
   "cell_type": "code",
   "execution_count": 11,
   "id": "880a7e13",
   "metadata": {},
   "outputs": [
    {
     "data": {
      "text/plain": [
       "207"
      ]
     },
     "execution_count": 11,
     "metadata": {},
     "output_type": "execute_result"
    }
   ],
   "source": [
    "len(cotr[cotr[\"Terminal\"]>=90])"
   ]
  },
  {
   "cell_type": "markdown",
   "id": "f2c6b885",
   "metadata": {},
   "source": [
    "(d) [2 points] Create a new dataframe that only includes samples where Private is equal\n",
    "to Yes.\n",
    "i. What is the mean value of Books in the new dataframe?"
   ]
  },
  {
   "cell_type": "code",
   "execution_count": 12,
   "id": "cf06d52f",
   "metadata": {},
   "outputs": [
    {
     "data": {
      "text/plain": [
       "550.2972399150743"
      ]
     },
     "execution_count": 12,
     "metadata": {},
     "output_type": "execute_result"
    }
   ],
   "source": [
    "cotr2=cotr[cotr[\"Private\"]==\"Yes\"]\n",
    "cotr2[\"Books\"].mean()"
   ]
  },
  {
   "cell_type": "markdown",
   "id": "37954414",
   "metadata": {},
   "source": [
    "ii. What is the standard deviation of Books in the new dataframe?"
   ]
  },
  {
   "cell_type": "code",
   "execution_count": 13,
   "id": "b3d19d63",
   "metadata": {},
   "outputs": [
    {
     "data": {
      "text/plain": [
       "179.72500498789157"
      ]
     },
     "execution_count": 13,
     "metadata": {},
     "output_type": "execute_result"
    }
   ],
   "source": [
    "cotr2[\"Books\"].std()"
   ]
  },
  {
   "cell_type": "markdown",
   "id": "8153c9c9",
   "metadata": {},
   "source": [
    "(e) [1 points] Use a for loop to print the following text."
   ]
  },
  {
   "cell_type": "code",
   "execution_count": 15,
   "id": "d78665b6",
   "metadata": {},
   "outputs": [
    {
     "name": "stdout",
     "output_type": "stream",
     "text": [
      "Hello World 1\n",
      "Hello World 2\n",
      "Hello World 4\n",
      "Hello World 8\n",
      "Hello World 16\n"
     ]
    }
   ],
   "source": [
    "for i in range(5):\n",
    "    print(\"Hello World\",2**i)"
   ]
  },
  {
   "cell_type": "markdown",
   "id": "456ba193",
   "metadata": {},
   "source": [
    "(f) [1 points] Create a markdown Jupyter cell with the following contents."
   ]
  },
  {
   "cell_type": "markdown",
   "id": "b778d0cb",
   "metadata": {},
   "source": [
    "# This is a section heading\n",
    "\n",
    "In this section I have a bigger formula,\n",
    "\n",
    "$$\n",
    "    \\sqrt{\\frac{\\alpha}{\\sqrt{(\\beta)^2+cos3}}}\n",
    "    $$\n",
    "\n",
    "and an in-line formula, $\\sqrt{3}$. I made **this text** bold"
   ]
  },
  {
   "cell_type": "code",
   "execution_count": 7,
   "id": "9723523c",
   "metadata": {},
   "outputs": [
    {
     "name": "stderr",
     "output_type": "stream",
     "text": [
      "[NbConvertApp] Converting notebook stats_503_hw1.ipynb to html\n",
      "[NbConvertApp] Writing 299324 bytes to stats_503_hw1.html\n"
     ]
    }
   ],
   "source": [
    "!jupyter nbconvert --to html stats_503_hw1.ipynb"
   ]
  },
  {
   "cell_type": "code",
   "execution_count": null,
   "id": "3e33a249-03e3-46fc-8066-43c00c33669e",
   "metadata": {},
   "outputs": [],
   "source": []
  }
 ],
 "metadata": {
  "kernelspec": {
   "display_name": "Python 3 (ipykernel)",
   "language": "python",
   "name": "python3"
  },
  "language_info": {
   "codemirror_mode": {
    "name": "ipython",
    "version": 3
   },
   "file_extension": ".py",
   "mimetype": "text/x-python",
   "name": "python",
   "nbconvert_exporter": "python",
   "pygments_lexer": "ipython3",
   "version": "3.12.7"
  }
 },
 "nbformat": 4,
 "nbformat_minor": 5
}
