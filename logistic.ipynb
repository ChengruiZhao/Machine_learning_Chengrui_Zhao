{
 "cells": [
  {
   "cell_type": "markdown",
   "id": "cc7f4e46-687f-46e4-9149-0fbc75dec245",
   "metadata": {},
   "source": [
    "# Stats 503 hw3"
   ]
  },
  {
   "cell_type": "markdown",
   "id": "a7ddfd07-7bf2-4f2e-8abc-9e66a3016e6d",
   "metadata": {},
   "source": [
    "### 1, ISLP chapter 4, conceptual exercise #1"
   ]
  },
  {
   "cell_type": "markdown",
   "id": "baaa349f-6bec-417c-942d-fc37d2fc8232",
   "metadata": {},
   "source": [
    "$$p(X)=\\frac{e^{\\beta_0+\\beta_1*X}}{1+e^{\\beta_0+\\beta_1*X}}$$\n",
    "$$1-p(X)=1-\\frac{e^{\\beta_0+\\beta_1*X}}{1+e^{\\beta_0+\\beta_1*X}}=\\frac{1}{1+e^{\\beta_0+\\beta_1*X}}$$\n",
    "$$\\frac{p(X)}{1-p(X)}=\\frac{\\frac{e^{\\beta_0+\\beta_1*X}}{1+e^{\\beta_0+\\beta_1*X}}}{\\frac{1}{1+e^{\\beta_0+\\beta_1*X}}}=e^{\\beta_0+\\beta_1*X}$$"
   ]
  },
  {
   "cell_type": "markdown",
   "id": "fbec2c2b-fba7-47eb-bbc6-511b2dd12fe3",
   "metadata": {},
   "source": [
    "### 2, ISLP chapter 4, conceptual exercise #4"
   ]
  },
  {
   "cell_type": "markdown",
   "id": "2a1869b6-5899-4646-8edb-3fee4a234ab1",
   "metadata": {},
   "source": [
    "#### (a)"
   ]
  },
  {
   "cell_type": "markdown",
   "id": "cdbf6af2-a4a5-477e-b190-875d01cfa0f2",
   "metadata": {},
   "source": [
    "0.05+0.05=0.1,\n",
    "0.1/1=0.1,\n",
    "the fraction is 10%"
   ]
  },
  {
   "cell_type": "markdown",
   "id": "70876945-4016-4fe5-b72d-799a3754ae4c",
   "metadata": {},
   "source": [
    "#### (b)"
   ]
  },
  {
   "cell_type": "markdown",
   "id": "9f8d0f36-72c6-499c-9b60-948e6501883b",
   "metadata": {},
   "source": [
    "0.05+0.05=0.1,\n",
    "0.1/1=0.1,\n",
    "0.05+0.05=0.1,\n",
    "0.1/1=0.1,\n",
    "0.1*0.1=0.01,\n",
    "the fraction is 1%"
   ]
  },
  {
   "cell_type": "markdown",
   "id": "461c53fe-c5eb-43dc-be2e-b3c4d577d2f2",
   "metadata": {},
   "source": [
    "#### (c)"
   ]
  },
  {
   "cell_type": "markdown",
   "id": "c1706762-ae43-4fcd-9174-bd6ca3c5fd35",
   "metadata": {},
   "source": [
    "0.05+0.05=0.1,\n",
    "0.1/1=0.1,\n",
    "the fraction is $(0.1)^{100}$"
   ]
  },
  {
   "cell_type": "markdown",
   "id": "6a6b0da7-0b16-4acf-9df0-03e913bfdaa4",
   "metadata": {},
   "source": [
    "#### (d)"
   ]
  },
  {
   "cell_type": "markdown",
   "id": "16ec91d7-9f87-4a35-8ceb-d9cedf1b7978",
   "metadata": {},
   "source": [
    "for (a) the fraction is 0.1 while for (c) the fraction is $(0.1)^{100}$, which is much smaller compared with 0.1 and really close to 0, so we can get the conclusion that  a drawback of KNN when p is large is that there are very few training observations “near” any given test observation."
   ]
  },
  {
   "cell_type": "markdown",
   "id": "3f69bcae-1a6f-4ddc-ab4a-e982036b18d0",
   "metadata": {},
   "source": [
    "#### (e)"
   ]
  },
  {
   "cell_type": "markdown",
   "id": "8c6dbf3c-6eb1-45aa-9e54-a351e05996da",
   "metadata": {},
   "source": [
    "$$p=1: 0.1^{1/1}=0.1$$\n",
    "$$p=2: 0.1^{1/2}=0.316$$\n",
    "$$p=100:0.1^{1/100}=0.977$$"
   ]
  },
  {
   "cell_type": "markdown",
   "id": "8b42ebdf-6993-493c-b9b5-ecd7ec468b80",
   "metadata": {},
   "source": [
    "### 3, ISLP chapter 4, conceptual exercise #9"
   ]
  },
  {
   "cell_type": "markdown",
   "id": "952416ca-7385-4719-be2d-65e193db730a",
   "metadata": {},
   "source": [
    "#### (a)"
   ]
  },
  {
   "cell_type": "markdown",
   "id": "114d1e59-8df7-4fa7-8625-631f10569fc4",
   "metadata": {},
   "source": [
    "0.37/(1+0.37)=0.37/1.37=0.2701,\n",
    "27.01% people will in fact default"
   ]
  },
  {
   "cell_type": "markdown",
   "id": "c87a9d9f-ee35-446b-956e-dd41b2c2330b",
   "metadata": {},
   "source": [
    "#### (b)"
   ]
  },
  {
   "cell_type": "markdown",
   "id": "08aa8164-1335-431f-a014-8a36bb828fa3",
   "metadata": {},
   "source": [
    "let the odds be x, x/(1+x)=0.16, 0.84x=0.16, x=0.1905, odds is 0.1905"
   ]
  },
  {
   "cell_type": "markdown",
   "id": "e83326cf-73e7-4905-9abb-9f6f5fc6d869",
   "metadata": {},
   "source": [
    "### 4,ISLP chapter 4, conceptual exercise #12, parts a, b, and c"
   ]
  },
  {
   "cell_type": "markdown",
   "id": "490e3173-7546-48a1-8ef8-2fb72ec3cc84",
   "metadata": {},
   "source": [
    "#### (a)"
   ]
  },
  {
   "cell_type": "markdown",
   "id": "d815061e-8fd9-44cb-a504-0fba8189caae",
   "metadata": {},
   "source": [
    "$\\hat{Pr}(Y=apple|X=x)=1-\\hat{Pr}(Y=orange|X=x)=\\frac{1}{1+exp(\\hat{\\beta_0}+\\hat{\\beta_1 x})}$\n",
    "\n",
    "odds for orange vs apple=$\\hat{Pr}(Y=orange|X=x)/\\hat{Pr}(Y=apple|X=x)=exp(\\hat{\\beta_0}+\\hat{\\beta_1 x})$\n",
    "\n",
    "log odds=$log(exp(\\hat{\\beta_0}+\\hat{\\beta_1 x}))=\\hat{\\beta_0}+\\hat{\\beta_1 x}$"
   ]
  },
  {
   "cell_type": "markdown",
   "id": "262f22a5-95e4-45ed-9f98-7e08bbd201d9",
   "metadata": {},
   "source": [
    "#### (b)"
   ]
  },
  {
   "cell_type": "markdown",
   "id": "5b11f8a0-bcb1-433c-9650-01fd515c0732",
   "metadata": {},
   "source": [
    "$\\hat{Pr}(Y=apple|X=x)=1-\\hat{Pr}(Y=orange|X=x)=\\frac{exp(\\hat{\\alpha_(apple0)}+\\hat{\\alpha_(apple1)}x)}{exp(\\hat{\\alpha_(apple0)}+\\hat{\\alpha_(apple1)}x)+exp(\\hat{\\alpha_(orange0)}+\\hat{\\alpha_(orange1)}x)}$\n",
    "\n",
    "odds for orange vs apple:$\\hat{Pr}(Y=orange|X=x)/\\hat{Pr}(Y=apple|X=x)=\\frac{exp(\\hat{\\alpha_(orange0)}+\\hat{\\alpha_(orange1)}x)}{exp(\\hat{\\alpha_(apple0)}+\\hat{\\alpha_(apple1)}x)}=exp(\\hat{\\alpha_(orange0)}+\\hat{\\alpha_(orange1)}x-\\hat{\\alpha_(apple0)}-\\hat{\\alpha_(apple1)}x)$\n",
    "\n",
    "log odds=$log(exp(\\hat{\\alpha_(orange0)}+\\hat{\\alpha_(orange1)}x-\\hat{\\alpha_(apple0)}-\\hat{\\alpha_(apple1)}x))=\\hat{\\alpha_(orange0)}+\\hat{\\alpha_(orange1)}x-\\hat{\\alpha_(apple0)}-\\hat{\\alpha_(apple1)}x$"
   ]
  },
  {
   "cell_type": "markdown",
   "id": "5a854c19-06f2-4f0e-92f1-1fd32f703f40",
   "metadata": {},
   "source": [
    "#### (c)"
   ]
  },
  {
   "cell_type": "markdown",
   "id": "5dd1044a-67c7-4c64-bd3b-cbe43a4873b2",
   "metadata": {},
   "source": [
    "2-x=$\\hat{\\alpha_(orange0)}+\\hat{\\alpha_(orange1)}x-\\hat{\\alpha_(apple0)}-\\hat{\\alpha_(apple1)}x$\n",
    "\n",
    "we have $\\hat{\\alpha_(orange0)}-\\hat{\\alpha_(apple0)}=2, \\hat{\\alpha_(orange1)}-\\hat{\\alpha_(apple1)}=-1$\n",
    "\n",
    "use apple as referencing, then $\\hat{\\alpha_(apple0)}=0,\\hat{\\alpha_(apple1)}=0, \\hat{\\alpha_(orange0)}=2, \\hat{\\alpha_(orange1)}=-1$"
   ]
  },
  {
   "cell_type": "markdown",
   "id": "8d0ba876-4f5e-4582-9ea5-9627b891f2bf",
   "metadata": {},
   "source": [
    "### 5"
   ]
  },
  {
   "cell_type": "markdown",
   "id": "5abe2d65-8ee9-41c8-a512-32d1ccb17e7e",
   "metadata": {},
   "source": [
    "#### (a) Predict the probability of getting an A for a student who studies 5 hours a week and has a GPA of 3.5 in other statistics courses"
   ]
  },
  {
   "cell_type": "markdown",
   "id": "36a3203e-e536-4d1d-a85e-42dbee1df599",
   "metadata": {},
   "source": [
    "-4+0.05*5+1*3.5=3.75-4=-0.25\n",
    "\n",
    "$P(pass)=exp(-0.25)/(1+exp(-0.25))=0.7788/1.7788=0.4378$\n",
    "\n",
    "43.78% chance of getting A"
   ]
  },
  {
   "cell_type": "markdown",
   "id": "419cdd7b-8463-45fe-93a8-03ab45b733d2",
   "metadata": {},
   "source": [
    "#### (b)What are the odds that this student will get an A?"
   ]
  },
  {
   "cell_type": "markdown",
   "id": "ea0d586d-f285-4e2d-9379-280a7832e240",
   "metadata": {},
   "source": [
    "from (a) we have exp(-0.25)=0.7788\n",
    "\n",
    "the odds is 0.7788"
   ]
  },
  {
   "cell_type": "markdown",
   "id": "60531476-83e3-4b84-9022-ed607acf3f6e",
   "metadata": {},
   "source": [
    "#### (c) How many hours a week does this student need to study for the model to predict a 50% chance of getting an A?"
   ]
  },
  {
   "cell_type": "markdown",
   "id": "93363457-f4c2-407e-9bb4-a15a2a4bfbfd",
   "metadata": {},
   "source": [
    "let the hour be x, -4+0.05x+3.5=0.05x-0.5\n",
    "\n",
    "$P(pass)=exp(0.05x-0.5)/(1+exp(0.05x-0.5))>0.5$\n",
    "\n",
    "exp(0.05x-0.5)>1\n",
    "\n",
    "0.05x-0.5>0, x>10\n",
    "\n",
    "10 hours a week needed"
   ]
  },
  {
   "cell_type": "markdown",
   "id": "b935e3e2-a645-4508-a7d4-8d3fa13e763c",
   "metadata": {},
   "source": [
    "### 6"
   ]
  },
  {
   "cell_type": "markdown",
   "id": "929e5b72-ea84-4339-bc92-12fe2f9ae784",
   "metadata": {},
   "source": [
    "#### (a)"
   ]
  },
  {
   "cell_type": "code",
   "execution_count": 86,
   "id": "4d9a7e09-1acb-4c77-b187-61fa2b1272ba",
   "metadata": {},
   "outputs": [
    {
     "data": {
      "text/plain": [
       "16.719303439208034"
      ]
     },
     "execution_count": 86,
     "metadata": {},
     "output_type": "execute_result"
    }
   ],
   "source": [
    "import numpy as np\n",
    "import pandas as pd\n",
    "from sklearn.linear_model import LogisticRegression\n",
    "from sklearn.metrics import log_loss\n",
    "from sklearn.preprocessing import StandardScaler\n",
    "college_train=pd.read_csv(\"C:\\\\Users\\\\DELL\\\\Downloads\\\\college_train.csv\")\n",
    "college_test=pd.read_csv(\"C:\\\\Users\\\\DELL\\\\Downloads\\\\college_test.csv\")\n",
    "scaler = StandardScaler()\n",
    "cotr[\"private\"] = cotr[\"Private\"].map({\"Yes\": 1, \"No\": 0})\n",
    "X=cotr.iloc[:,2:19]\n",
    "X= scaler.fit_transform(X)\n",
    "Y=cotr[\"private\"]\n",
    "model = LogisticRegression(max_iter=5000, solver='lbfgs')\n",
    "model.fit(X,Y)\n",
    "cote[\"private\"]=cote[\"Private\"].map({\"Yes\":1,\"No\":0})\n",
    "X1=cote.iloc[:,2:19]\n",
    "X1= scaler.transform(X1)\n",
    "Y1=cote[\"private\"]\n",
    "y_prob = model.predict_proba(X1)[:, 1]\n",
    "nll = -np.sum(y_test * np.log(y_prob) + (1 - y_test) * np.log(1 - y_prob))\n",
    "nll"
   ]
  },
  {
   "cell_type": "markdown",
   "id": "79f473e6-c6c0-497a-8888-9cbbd1d8ec13",
   "metadata": {},
   "source": [
    "#### (b)"
   ]
  },
  {
   "cell_type": "code",
   "execution_count": 92,
   "id": "68153490-a370-4955-8436-721f2e1a43c0",
   "metadata": {},
   "outputs": [
    {
     "name": "stdout",
     "output_type": "stream",
     "text": [
      "0.030303030303030304\n",
      "0.9468085106382979\n",
      "0.05319148936170213\n",
      "0.9696969696969697\n"
     ]
    }
   ],
   "source": [
    "from sklearn.metrics import confusion_matrix\n",
    "y_prob = model.predict_proba(X1)[:,1]\n",
    "y_pred= (y_prob > 0.5).astype(int)\n",
    "tn, fp, fn, tp = confusion_matrix(Y1, y_pred).ravel()\n",
    "print(fp / (fp + tn))\n",
    "print(tp / (tp + fn))\n",
    "print(fn / (fn + tp))\n",
    "print(tn / (tn + fp))"
   ]
  },
  {
   "cell_type": "markdown",
   "id": "76a177b0-6ddd-46ca-b2ab-d48ed1e8eade",
   "metadata": {},
   "source": [
    "#### (c)"
   ]
  },
  {
   "cell_type": "code",
   "execution_count": 94,
   "id": "81da2b0e-02b4-4892-bcee-151bd201db3c",
   "metadata": {},
   "outputs": [
    {
     "name": "stdout",
     "output_type": "stream",
     "text": [
      "0.030303030303030304\n",
      "0.7659574468085106\n",
      "0.23404255319148937\n",
      "0.9696969696969697\n"
     ]
    }
   ],
   "source": [
    "y_prob = model.predict_proba(X1)[:,1]\n",
    "y_pred= (y_prob > 0.9).astype(int)\n",
    "tn, fp, fn, tp = confusion_matrix(Y1, y_pred).ravel()\n",
    "print(fp / (fp + tn))\n",
    "print(tp / (tp + fn))\n",
    "print(fn / (fn + tp))\n",
    "print(tn / (tn + fp))"
   ]
  },
  {
   "cell_type": "markdown",
   "id": "8d7e7d7e-50e5-4b38-885d-3278baa45f30",
   "metadata": {},
   "source": [
    "#### (d)"
   ]
  },
  {
   "cell_type": "code",
   "execution_count": 98,
   "id": "c2054742-3e5c-43d1-9109-707d3f464241",
   "metadata": {},
   "outputs": [
    {
     "data": {
      "image/png": "[encoded data removed]",
      "text/plain": [
       "<Figure size 800x600 with 1 Axes>"
      ]
     },
     "metadata": {},
     "output_type": "display_data"
    }
   ],
   "source": [
    "import matplotlib.pyplot as plt\n",
    "import numpy as np\n",
    "fpr_list = []\n",
    "tpr_list = []\n",
    "for t in np.linspace(0, 1, 101): \n",
    "    y_pred= (y_prob >t).astype(int)\n",
    "    tn, fp, fn, tp = confusion_matrix(Y1, y_pred).ravel()\n",
    "    fpr = fp / (fp + tn)\n",
    "    tpr = tp / (tp + fn)\n",
    "    fpr_list.append(fpr)\n",
    "    tpr_list.append(tpr)\n",
    "plt.figure(figsize=(8, 6))\n",
    "plt.plot(fpr_list, tpr_list, color='blue', label=\"ROC curve\")\n",
    "plt.plot([0, 1], [0, 1], color='gray', linestyle='--', label=\"Random Guess\")\n",
    "plt.title(\"ROC Curve\")\n",
    "plt.xlabel(\"False Positive Rate (FPR)\")\n",
    "plt.ylabel(\"True Positive Rate (TPR)\")\n",
    "plt.legend(loc=\"lower right\")\n",
    "plt.grid(True)\n",
    "plt.show()"
   ]
  },
  {
   "cell_type": "markdown",
   "id": "829dda19-dfe4-4458-9f3d-9b2322eaa75e",
   "metadata": {},
   "source": [
    "#### (e)"
   ]
  },
  {
   "cell_type": "code",
   "execution_count": 100,
   "id": "e0b7c5f2-f5d2-40eb-9229-fb43e6fec0c8",
   "metadata": {},
   "outputs": [
    {
     "data": {
      "text/plain": [
       "0.9903288201160542"
      ]
     },
     "execution_count": 100,
     "metadata": {},
     "output_type": "execute_result"
    }
   ],
   "source": [
    "from sklearn.metrics import roc_auc_score\n",
    "roc_auc_score(Y1, y_prob_yes)"
   ]
  },
  {
   "cell_type": "code",
   "execution_count": 102,
   "id": "f40b9a6d-6a8e-4be9-80f7-890a07f6dc7e",
   "metadata": {},
   "outputs": [
    {
     "name": "stderr",
     "output_type": "stream",
     "text": [
      "[NbConvertApp] Converting notebook stats_503_hw3_Chengrui_Zhao.ipynb to html\n",
      "[NbConvertApp] WARNING | Alternative text is missing on 1 image(s).\n",
      "[NbConvertApp] Writing 357277 bytes to stats_503_hw3_Chengrui_Zhao.html\n"
     ]
    }
   ],
   "source": [
    "!jupyter nbconvert --to html stats_503_hw3_Chengrui_Zhao.ipynb"
   ]
  },
  {
   "cell_type": "code",
   "execution_count": null,
   "id": "32f9f442-2064-4bfe-bf4a-dbb1830fa528",
   "metadata": {},
   "outputs": [],
   "source": []
  }
 ],
 "metadata": {
  "kernelspec": {
   "display_name": "Python 3 (ipykernel)",
   "language": "python",
   "name": "python3"
  },
  "language_info": {
   "codemirror_mode": {
    "name": "ipython",
    "version": 3
   },
   "file_extension": ".py",
   "mimetype": "text/x-python",
   "name": "python",
   "nbconvert_exporter": "python",
   "pygments_lexer": "ipython3",
   "version": "3.12.7"
  }
 },
 "nbformat": 4,
 "nbformat_minor": 5
}
