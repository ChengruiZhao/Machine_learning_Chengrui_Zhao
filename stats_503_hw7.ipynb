rename stats_503_hw7.ipynb to random_forest_and_boosting.ipynb
