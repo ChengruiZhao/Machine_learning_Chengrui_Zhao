{
 "cells": [
  {
   "cell_type": "markdown",
   "id": "df893bbf-9d55-450c-af37-77660296eafe",
   "metadata": {},
   "source": [
    "# hw5"
   ]
  },
  {
   "cell_type": "markdown",
   "id": "513efac9-0334-44c4-aef7-b3d9b4bbe6e2",
   "metadata": {},
   "source": [
    "### 1,ISLP, chapter 5, conceptual exercise #2, parts a, b, c, d, e, f"
   ]
  },
  {
   "cell_type": "markdown",
   "id": "a70e23e9-ad13-429b-8014-01009b47aa87",
   "metadata": {},
   "source": [
    "#### (a)"
   ]
  },
  {
   "cell_type": "markdown",
   "id": "0402351e-8ca6-4f26-a5ac-ed00d5296dd0",
   "metadata": {},
   "source": [
    "Since each observation has the equal chance to be picked and with replacement, there are n observations, so P(being the jth observation)=$\\frac{1}{n}$, then P(not being the jth observation)=$1-\\frac{1}{n}$"
   ]
  },
  {
   "cell_type": "markdown",
   "id": "d697de08-6767-4363-a5fb-4e8425c1ed1d",
   "metadata": {},
   "source": [
    "#### (b)"
   ]
  },
  {
   "cell_type": "markdown",
   "id": "ffacd0a0-56ec-419f-8581-a4a32ae1cb9e",
   "metadata": {},
   "source": [
    "P(being the jth observation)=$\\frac{1}{n}$, then P(not being the jth observation)=$1-\\frac{1}{n}$"
   ]
  },
  {
   "cell_type": "markdown",
   "id": "9d37c85f-24d6-492c-9c0e-cbc89f035e82",
   "metadata": {},
   "source": [
    "#### (c)"
   ]
  },
  {
   "cell_type": "markdown",
   "id": "abcec099-c2a2-421e-9a8c-5b425166704a",
   "metadata": {},
   "source": [
    "since for all observation has the probability of not being the jth observation by $1-\\frac{1}{n}$, and there are n observations we have P(jth observation not in bootstrap)=$(1-\\frac{1}{n})^n$"
   ]
  },
  {
   "cell_type": "markdown",
   "id": "145bf801-0c3a-4759-a48b-f297bd8d7601",
   "metadata": {},
   "source": [
    "#### (d)"
   ]
  },
  {
   "cell_type": "markdown",
   "id": "371e55c7-0445-4e9a-9c32-b08887c45948",
   "metadata": {},
   "source": [
    "P(jth observation in bootstrap)=$1-(\\frac{4}{5})^5=\\frac{2101}{3125}$"
   ]
  },
  {
   "cell_type": "markdown",
   "id": "aee7915b-18cd-4fb2-a99f-6214a432aa94",
   "metadata": {},
   "source": [
    "#### (e)"
   ]
  },
  {
   "cell_type": "markdown",
   "id": "8d835e00-e0a0-4c87-9ee5-bed7dff9a64f",
   "metadata": {},
   "source": [
    "P(jth observation in bootstrap)=$1-(\\frac{99}{100})^{100}=0.634$"
   ]
  },
  {
   "cell_type": "markdown",
   "id": "2208c620-a7ab-46c2-9253-b4b81fe08407",
   "metadata": {},
   "source": [
    "#### (f)"
   ]
  },
  {
   "cell_type": "markdown",
   "id": "ff6d6f35-0733-463d-8800-0ad0077bfbbb",
   "metadata": {},
   "source": [
    "P(jth observation in bootstrap)=$1-(\\frac{9999}{10000})^{10000}=0.6321$"
   ]
  },
  {
   "cell_type": "markdown",
   "id": "95edfd2c-c989-4748-ac09-02d8d256c70c",
   "metadata": {},
   "source": [
    "### 2, ISLP, chapter 5, conceptual exercise #4"
   ]
  },
  {
   "cell_type": "markdown",
   "id": "ac03e793-7f08-450b-856a-ea1dab7b7825",
   "metadata": {},
   "source": [
    "Create a bootstrap. First of all, generte the sample by generating n size of datasets for B times with replacement, B should be large. Then for each datasets apply statistical learnig method to them, predict $\\hat{Y_b}$ for each dataset, then $sd(\\hat{Y})=\\sqrt{\\frac{1}{B-1}\\sum_{b=1}^{B}(\\hat{Y_b}-\\bar{Y})^2}$"
   ]
  },
  {
   "cell_type": "markdown",
   "id": "ebe50bd3-f550-460a-9f63-e0e939b263b2",
   "metadata": {},
   "source": [
    "### 3"
   ]
  },
  {
   "cell_type": "markdown",
   "id": "7c56f0e6-8769-49e9-87d2-c9dd04311d7d",
   "metadata": {},
   "source": [
    "#### (a)"
   ]
  },
  {
   "cell_type": "markdown",
   "id": "8e6eea7a-3cba-43cd-b88d-58332a830ed5",
   "metadata": {},
   "source": [
    "n=100, p=1 as there are only one predictor. $Y=X-2X^2+\\epsilon$, X~ N(0,1), $\\epsilon$ ~N(0,1)"
   ]
  },
  {
   "cell_type": "markdown",
   "id": "0f298a98-6a0b-4278-99cf-ff1181ef4ef5",
   "metadata": {},
   "source": [
    "#### (b)"
   ]
  },
  {
   "cell_type": "code",
   "execution_count": 310,
   "id": "f3bafda3-a183-401b-a0f3-c136f95983c2",
   "metadata": {},
   "outputs": [
    {
     "data": {
      "image/png": "[encoded data removed]",
      "text/plain": [
       "<Figure size 640x480 with 1 Axes>"
      ]
     },
     "metadata": {},
     "output_type": "display_data"
    }
   ],
   "source": [
    "import matplotlib.pyplot as plt\n",
    "import numpy as np\n",
    "rng = np.random.default_rng(1)\n",
    "x = rng.normal(size=100)\n",
    "y = x - 2 * x**2 + rng.normal(size=100)\n",
    "plt.scatter(x,y)\n",
    "plt.show()"
   ]
  },
  {
   "cell_type": "markdown",
   "id": "4cfcb2da-02db-4d3a-8707-17dbe551a1f5",
   "metadata": {},
   "source": [
    "There exists a quadratic distribution with inverted U-shape."
   ]
  },
  {
   "cell_type": "markdown",
   "id": "8a96b4e9-344c-4434-a277-557cff60a528",
   "metadata": {},
   "source": [
    "#### (c)"
   ]
  },
  {
   "cell_type": "code",
   "execution_count": 314,
   "id": "c6411ee2-f0eb-4cfc-bfb9-154236571ee2",
   "metadata": {},
   "outputs": [
    {
     "name": "stdout",
     "output_type": "stream",
     "text": [
      "Degree 1: Mean CV Error = 6.3903 (Std: 1.4336)\n",
      "Degree 2: Mean CV Error = 1.1291 (Std: 0.5494)\n",
      "Degree 3: Mean CV Error = 1.2483 (Std: 0.7009)\n",
      "Degree 4: Mean CV Error = 1.3692 (Std: 0.9668)\n",
      "\n",
      "Model with the lowest average MSE: Degree 2\n"
     ]
    }
   ],
   "source": [
    "from sklearn.model_selection import KFold\n",
    "from sklearn.linear_model import LinearRegression\n",
    "from sklearn.preprocessing import PolynomialFeatures\n",
    "from sklearn.metrics import mean_squared_error\n",
    "X = x.reshape(-1, 1)\n",
    "degrees = [1, 2, 3, 4]\n",
    "cv_errors = {deg: [] for deg in degrees}\n",
    "kf = KFold(n_splits=5, shuffle=True, random_state=3)\n",
    "for train_index, test_index in kf.split(X):\n",
    "    X_train, X_test = X[train_index], X[test_index]\n",
    "    Y_train, Y_test = y[train_index], y[test_index]\n",
    "    for deg in degrees:\n",
    "        poly = PolynomialFeatures(degree=deg)\n",
    "        X_train_poly = poly.fit_transform(X_train)\n",
    "        X_test_poly = poly.transform(X_test)\n",
    "        model = LinearRegression()\n",
    "        model.fit(X_train_poly, Y_train)\n",
    "        Y_pred = model.predict(X_test_poly)\n",
    "        mse = mean_squared_error(Y_test, Y_pred)\n",
    "        cv_errors[deg].append(mse)\n",
    "for deg in degrees:\n",
    "    print(f\"Degree {deg}: Mean CV Error = {np.mean(cv_errors[deg]):.4f} (Std: {np.std(cv_errors[deg]):.4f})\")\n",
    "best_degree = min(cv_errors, key=lambda d: np.mean(cv_errors[d]))\n",
    "print(f\"\\nModel with the lowest average MSE: Degree {best_degree}\")"
   ]
  },
  {
   "cell_type": "markdown",
   "id": "9f092867-e278-4e75-93e8-98f38d65e0fc",
   "metadata": {},
   "source": [
    "model with degree has the smallest error, it's as expected since the original model is quadraic."
   ]
  },
  {
   "cell_type": "markdown",
   "id": "8541d143-3fbd-4ba2-ad12-b5b4d27c838c",
   "metadata": {},
   "source": [
    "### 4"
   ]
  },
  {
   "cell_type": "markdown",
   "id": "2802d847-0d49-4325-bd58-05b55e227c86",
   "metadata": {},
   "source": [
    "False, since in LOOCV in each fold each observation will be excluded for one turn and included in all other turn one by one, regardless of which observation is excluded in which turn the result is destined and can't be random, so it doesn't depend on the random seed."
   ]
  },
  {
   "cell_type": "markdown",
   "id": "bf210393-4be9-4155-9328-d1a3ccb1d582",
   "metadata": {},
   "source": [
    "### 5"
   ]
  },
  {
   "cell_type": "markdown",
   "id": "6f6673f6-f05a-4434-bf26-0f11ae7a22fc",
   "metadata": {},
   "source": [
    "#### (a)"
   ]
  },
  {
   "cell_type": "code",
   "execution_count": 321,
   "id": "a46f42a4-e155-400a-b149-059f725d5f30",
   "metadata": {},
   "outputs": [
    {
     "data": {
      "text/plain": [
       "22.532806324110677"
      ]
     },
     "execution_count": 321,
     "metadata": {},
     "output_type": "execute_result"
    }
   ],
   "source": [
    "import pandas as pd\n",
    "boston=pd.read_csv(\"C:\\\\Users\\\\DELL\\\\Downloads\\\\boston.csv\")\n",
    "muhat=np.mean(boston[\"medv\"])\n",
    "muhat"
   ]
  },
  {
   "cell_type": "markdown",
   "id": "9ff5d752-7b06-49dd-a87b-c27b03d48b4b",
   "metadata": {},
   "source": [
    "#### (b)"
   ]
  },
  {
   "cell_type": "code",
   "execution_count": 324,
   "id": "5f72541c-fe8b-4fec-b3bf-782a167f849b",
   "metadata": {},
   "outputs": [
    {
     "name": "stdout",
     "output_type": "stream",
     "text": [
      "0.4084569346972867\n"
     ]
    }
   ],
   "source": [
    "sdhat=np.std(boston[\"medv\"])\n",
    "errorhat=sdhat/np.sqrt(len(boston))\n",
    "print(errorhat)"
   ]
  },
  {
   "cell_type": "markdown",
   "id": "45a4ccbc-973f-41a2-8d4a-e13a5463e6c6",
   "metadata": {},
   "source": [
    "the standard error is 0.4085, which is much smaller than sample mean, indicating that the sample mean is stable and accurate."
   ]
  },
  {
   "cell_type": "markdown",
   "id": "23edd778-6335-40e2-b60c-5dea3d2148e9",
   "metadata": {},
   "source": [
    "#### (c)"
   ]
  },
  {
   "cell_type": "code",
   "execution_count": 328,
   "id": "f4b8eccc-109c-4656-a6fb-3aa5064da9e6",
   "metadata": {},
   "outputs": [
    {
     "name": "stdout",
     "output_type": "stream",
     "text": [
      "Bootstrap SE of µ̂: 0.4126\n"
     ]
    }
   ],
   "source": [
    "np.random.seed(1) \n",
    "B = 1000  \n",
    "bootstrap_means = []\n",
    "for _ in range(B):\n",
    "    resample = np.random.choice(boston[\"medv\"], size=len(boston[\"medv\"]), replace=True) \n",
    "    bootstrap_means.append(np.mean(resample))\n",
    "se_bootstrap = np.std(bootstrap_means, ddof=1)  \n",
    "print(f\"Bootstrap SE of µ̂: {se_bootstrap:.4f}\")"
   ]
  },
  {
   "cell_type": "markdown",
   "id": "31f5e7f6-f8a1-4faa-88d5-595a1ca66e20",
   "metadata": {},
   "source": [
    "The standard error by bootstrap is a little larger then the standard error in (b), indicating more variability than assumed"
   ]
  },
  {
   "cell_type": "markdown",
   "id": "f823524f-a0dc-4653-bb68-0deee446189e",
   "metadata": {},
   "source": [
    "#### (d)"
   ]
  },
  {
   "cell_type": "code",
   "execution_count": 332,
   "id": "a56aa459-a8c2-44a8-b468-7e771b7ed27c",
   "metadata": {},
   "outputs": [
    {
     "name": "stdout",
     "output_type": "stream",
     "text": [
      "%95ci using bootstrap:[ 21.707588209305666 , 23.358024438915688 ]\n",
      "%95ci not using bootstrap:[ 21.715892454716105 , 23.34972019350525 ]\n"
     ]
    }
   ],
   "source": [
    "lowerci1=muhat-2*se_bootstrap\n",
    "upperci1=muhat+2*se_bootstrap\n",
    "lowerci2=muhat-2*errorhat\n",
    "upperci2=muhat+2*errorhat\n",
    "print(\"%95ci using bootstrap:[\",lowerci1,\",\",upperci1,\"]\")\n",
    "print(\"%95ci not using bootstrap:[\",lowerci2,\",\",upperci2,\"]\")"
   ]
  },
  {
   "cell_type": "markdown",
   "id": "7077f60e-dcbd-4181-9e9a-9cd82d3deb6f",
   "metadata": {},
   "source": [
    "From the result it seems that the 95% CI covers more using bootstrap method than that using calculation method, but the results are actually similar."
   ]
  },
  {
   "cell_type": "markdown",
   "id": "8f2b39c2-9682-4fc1-80c6-f4d66d621644",
   "metadata": {},
   "source": [
    "#### (e)"
   ]
  },
  {
   "cell_type": "code",
   "execution_count": 336,
   "id": "4665fff6-3fdc-4c0b-99f9-a4a574ce31a5",
   "metadata": {},
   "outputs": [
    {
     "data": {
      "text/plain": [
       "21.2"
      ]
     },
     "execution_count": 336,
     "metadata": {},
     "output_type": "execute_result"
    }
   ],
   "source": [
    "muhatmedian=np.median(boston[\"medv\"])\n",
    "muhatmedian"
   ]
  },
  {
   "cell_type": "markdown",
   "id": "507d2bd1-59cb-431f-ac9e-b2c59e625b08",
   "metadata": {},
   "source": [
    "#### (f)"
   ]
  },
  {
   "cell_type": "code",
   "execution_count": 339,
   "id": "126044d4-9202-4042-92b5-33d46a319f85",
   "metadata": {},
   "outputs": [
    {
     "name": "stdout",
     "output_type": "stream",
     "text": [
      "Bootstrap SE of µ̂: 0.3748\n"
     ]
    }
   ],
   "source": [
    "np.random.seed(1)\n",
    "B=1000\n",
    "bootstrap_medians = np.array([\n",
    "    np.median(np.random.choice(boston['medv'], size=len(boston[\"medv\"]), replace=True)) for _ in range(B)\n",
    "])\n",
    "se_bootstrap = np.std(bootstrap_medians, ddof=1)  \n",
    "print(f\"Bootstrap SE of µ̂: {se_bootstrap:.4f}\")"
   ]
  },
  {
   "cell_type": "markdown",
   "id": "00b23a39-763a-4281-ab9d-32b69672010e",
   "metadata": {},
   "source": [
    "#### (g)"
   ]
  },
  {
   "cell_type": "code",
   "execution_count": 342,
   "id": "008c2b8e-77c6-4d76-8564-7384297c9f64",
   "metadata": {},
   "outputs": [
    {
     "data": {
      "text/plain": [
       "12.75"
      ]
     },
     "execution_count": 342,
     "metadata": {},
     "output_type": "execute_result"
    }
   ],
   "source": [
    "np.percentile(boston[\"medv\"],10)"
   ]
  },
  {
   "cell_type": "markdown",
   "id": "5e32b93d-7c76-4ae5-b435-84b1054deb7d",
   "metadata": {},
   "source": [
    "#### (h)"
   ]
  },
  {
   "cell_type": "code",
   "execution_count": 345,
   "id": "8e87cc2d-60ea-4c89-b2c4-f9fc6a30257e",
   "metadata": {},
   "outputs": [
    {
     "name": "stdout",
     "output_type": "stream",
     "text": [
      "Bootstrap SE of µ̂: 0.4886\n"
     ]
    }
   ],
   "source": [
    "np.random.seed(1)\n",
    "B=1000\n",
    "bootstrap_percentiles = np.array([\n",
    "    np.percentile(np.random.choice(boston['medv'], size=len(boston), replace=True), 10) for _ in range(B)\n",
    "])\n",
    "se_bootstrap = np.std(bootstrap_percentiles, ddof=1)  \n",
    "print(f\"Bootstrap SE of µ̂: {se_bootstrap:.4f}\")"
   ]
  },
  {
   "cell_type": "markdown",
   "id": "ea55d57d-4b5d-45fd-9837-80b04dbaa563",
   "metadata": {},
   "source": [
    "This standard error for 10% percentile is similar that of whole data"
   ]
  },
  {
   "cell_type": "markdown",
   "id": "9f27c3e7-eb43-4a8c-9962-0484cce18a28",
   "metadata": {},
   "source": [
    "### 6"
   ]
  },
  {
   "cell_type": "markdown",
   "id": "08fe4a72-a6a2-4234-b9b1-ac6d3a567570",
   "metadata": {},
   "source": [
    "#### (a)"
   ]
  },
  {
   "cell_type": "code",
   "execution_count": 350,
   "id": "d9330e7d-05ba-4162-be71-08d3f9d7bde7",
   "metadata": {},
   "outputs": [
    {
     "name": "stdout",
     "output_type": "stream",
     "text": [
      "Optimization terminated successfully.\n",
      "         Current function value: 0.683297\n",
      "         Iterations 4\n"
     ]
    },
    {
     "data": {
      "text/html": [
       "<table class=\"simpletable\">\n",
       "<caption>Logit Regression Results</caption>\n",
       "<tr>\n",
       "  <th>Dep. Variable:</th>       <td>Direction</td>    <th>  No. Observations:  </th>  <td>  1089</td> \n",
       "</tr>\n",
       "<tr>\n",
       "  <th>Model:</th>                 <td>Logit</td>      <th>  Df Residuals:      </th>  <td>  1086</td> \n",
       "</tr>\n",
       "<tr>\n",
       "  <th>Method:</th>                 <td>MLE</td>       <th>  Df Model:          </th>  <td>     2</td> \n",
       "</tr>\n",
       "<tr>\n",
       "  <th>Date:</th>            <td>Sun, 23 Feb 2025</td> <th>  Pseudo R-squ.:     </th> <td>0.005335</td>\n",
       "</tr>\n",
       "<tr>\n",
       "  <th>Time:</th>                <td>19:45:48</td>     <th>  Log-Likelihood:    </th> <td> -744.11</td>\n",
       "</tr>\n",
       "<tr>\n",
       "  <th>converged:</th>             <td>True</td>       <th>  LL-Null:           </th> <td> -748.10</td>\n",
       "</tr>\n",
       "<tr>\n",
       "  <th>Covariance Type:</th>     <td>nonrobust</td>    <th>  LLR p-value:       </th>  <td>0.01848</td>\n",
       "</tr>\n",
       "</table>\n",
       "<table class=\"simpletable\">\n",
       "<tr>\n",
       "    <td></td>       <th>coef</th>     <th>std err</th>      <th>z</th>      <th>P>|z|</th>  <th>[0.025</th>    <th>0.975]</th>  \n",
       "</tr>\n",
       "<tr>\n",
       "  <th>const</th> <td>    0.2212</td> <td>    0.061</td> <td>    3.599</td> <td> 0.000</td> <td>    0.101</td> <td>    0.342</td>\n",
       "</tr>\n",
       "<tr>\n",
       "  <th>Lag1</th>  <td>   -0.0387</td> <td>    0.026</td> <td>   -1.477</td> <td> 0.140</td> <td>   -0.090</td> <td>    0.013</td>\n",
       "</tr>\n",
       "<tr>\n",
       "  <th>Lag2</th>  <td>    0.0602</td> <td>    0.027</td> <td>    2.270</td> <td> 0.023</td> <td>    0.008</td> <td>    0.112</td>\n",
       "</tr>\n",
       "</table>"
      ],
      "text/latex": [
       "\\begin{center}\n",
       "\\begin{tabular}{lclc}\n",
       "\\toprule\n",
       "\\textbf{Dep. Variable:}   &    Direction     & \\textbf{  No. Observations:  } &     1089    \\\\\n",
       "\\textbf{Model:}           &      Logit       & \\textbf{  Df Residuals:      } &     1086    \\\\\n",
       "\\textbf{Method:}          &       MLE        & \\textbf{  Df Model:          } &        2    \\\\\n",
       "\\textbf{Date:}            & Sun, 23 Feb 2025 & \\textbf{  Pseudo R-squ.:     } &  0.005335   \\\\\n",
       "\\textbf{Time:}            &     19:45:48     & \\textbf{  Log-Likelihood:    } &   -744.11   \\\\\n",
       "\\textbf{converged:}       &       True       & \\textbf{  LL-Null:           } &   -748.10   \\\\\n",
       "\\textbf{Covariance Type:} &    nonrobust     & \\textbf{  LLR p-value:       } &  0.01848    \\\\\n",
       "\\bottomrule\n",
       "\\end{tabular}\n",
       "\\begin{tabular}{lcccccc}\n",
       "               & \\textbf{coef} & \\textbf{std err} & \\textbf{z} & \\textbf{P$> |$z$|$} & \\textbf{[0.025} & \\textbf{0.975]}  \\\\\n",
       "\\midrule\n",
       "\\textbf{const} &       0.2212  &        0.061     &     3.599  &         0.000        &        0.101    &        0.342     \\\\\n",
       "\\textbf{Lag1}  &      -0.0387  &        0.026     &    -1.477  &         0.140        &       -0.090    &        0.013     \\\\\n",
       "\\textbf{Lag2}  &       0.0602  &        0.027     &     2.270  &         0.023        &        0.008    &        0.112     \\\\\n",
       "\\bottomrule\n",
       "\\end{tabular}\n",
       "%\\caption{Logit Regression Results}\n",
       "\\end{center}"
      ],
      "text/plain": [
       "<class 'statsmodels.iolib.summary.Summary'>\n",
       "\"\"\"\n",
       "                           Logit Regression Results                           \n",
       "==============================================================================\n",
       "Dep. Variable:              Direction   No. Observations:                 1089\n",
       "Model:                          Logit   Df Residuals:                     1086\n",
       "Method:                           MLE   Df Model:                            2\n",
       "Date:                Sun, 23 Feb 2025   Pseudo R-squ.:                0.005335\n",
       "Time:                        19:45:48   Log-Likelihood:                -744.11\n",
       "converged:                       True   LL-Null:                       -748.10\n",
       "Covariance Type:            nonrobust   LLR p-value:                   0.01848\n",
       "==============================================================================\n",
       "                 coef    std err          z      P>|z|      [0.025      0.975]\n",
       "------------------------------------------------------------------------------\n",
       "const          0.2212      0.061      3.599      0.000       0.101       0.342\n",
       "Lag1          -0.0387      0.026     -1.477      0.140      -0.090       0.013\n",
       "Lag2           0.0602      0.027      2.270      0.023       0.008       0.112\n",
       "==============================================================================\n",
       "\"\"\""
      ]
     },
     "execution_count": 350,
     "metadata": {},
     "output_type": "execute_result"
    }
   ],
   "source": [
    "import statsmodels.api as sm\n",
    "weekly=pd.read_csv(\"C:\\\\Users\\\\DELL\\\\Downloads\\\\Weekly.csv\")\n",
    "X=weekly.loc[:,[\"Lag1\",\"Lag2\"]]\n",
    "weekly[\"Direction\"]=weekly[\"Direction\"].map({\"Up\":1,\"Down\":0})\n",
    "y=weekly[\"Direction\"]\n",
    "X = sm.add_constant(X)\n",
    "logit_model = sm.Logit(y, X)\n",
    "result = logit_model.fit()\n",
    "result.summary()"
   ]
  },
  {
   "cell_type": "markdown",
   "id": "c9e85051-5ff9-454d-899c-86460c9c4293",
   "metadata": {},
   "source": [
    "From the result it seema that lag1 doesn't have significant influence on direction, the odds increase 2.74% for every increase of lag2."
   ]
  },
  {
   "cell_type": "markdown",
   "id": "ea684509-e669-4c6a-90d9-4d1692a79ecb",
   "metadata": {},
   "source": [
    "#### (b)"
   ]
  },
  {
   "cell_type": "code",
   "execution_count": 354,
   "id": "52b7ea6d-78a9-4a39-9683-cd9a6fab3708",
   "metadata": {},
   "outputs": [
    {
     "name": "stdout",
     "output_type": "stream",
     "text": [
      "Optimization terminated successfully.\n",
      "         Current function value: 0.683147\n",
      "         Iterations 4\n"
     ]
    },
    {
     "data": {
      "text/html": [
       "<table class=\"simpletable\">\n",
       "<caption>Logit Regression Results</caption>\n",
       "<tr>\n",
       "  <th>Dep. Variable:</th>       <td>Direction</td>    <th>  No. Observations:  </th>  <td>  1088</td> \n",
       "</tr>\n",
       "<tr>\n",
       "  <th>Model:</th>                 <td>Logit</td>      <th>  Df Residuals:      </th>  <td>  1085</td> \n",
       "</tr>\n",
       "<tr>\n",
       "  <th>Method:</th>                 <td>MLE</td>       <th>  Df Model:          </th>  <td>     2</td> \n",
       "</tr>\n",
       "<tr>\n",
       "  <th>Date:</th>            <td>Sun, 23 Feb 2025</td> <th>  Pseudo R-squ.:     </th> <td>0.005387</td>\n",
       "</tr>\n",
       "<tr>\n",
       "  <th>Time:</th>                <td>19:45:48</td>     <th>  Log-Likelihood:    </th> <td> -743.26</td>\n",
       "</tr>\n",
       "<tr>\n",
       "  <th>converged:</th>             <td>True</td>       <th>  LL-Null:           </th> <td> -747.29</td>\n",
       "</tr>\n",
       "<tr>\n",
       "  <th>Covariance Type:</th>     <td>nonrobust</td>    <th>  LLR p-value:       </th>  <td>0.01785</td>\n",
       "</tr>\n",
       "</table>\n",
       "<table class=\"simpletable\">\n",
       "<tr>\n",
       "    <td></td>       <th>coef</th>     <th>std err</th>      <th>z</th>      <th>P>|z|</th>  <th>[0.025</th>    <th>0.975]</th>  \n",
       "</tr>\n",
       "<tr>\n",
       "  <th>const</th> <td>    0.2232</td> <td>    0.061</td> <td>    3.630</td> <td> 0.000</td> <td>    0.103</td> <td>    0.344</td>\n",
       "</tr>\n",
       "<tr>\n",
       "  <th>Lag1</th>  <td>   -0.0384</td> <td>    0.026</td> <td>   -1.466</td> <td> 0.143</td> <td>   -0.090</td> <td>    0.013</td>\n",
       "</tr>\n",
       "<tr>\n",
       "  <th>Lag2</th>  <td>    0.0608</td> <td>    0.027</td> <td>    2.291</td> <td> 0.022</td> <td>    0.009</td> <td>    0.113</td>\n",
       "</tr>\n",
       "</table>"
      ],
      "text/latex": [
       "\\begin{center}\n",
       "\\begin{tabular}{lclc}\n",
       "\\toprule\n",
       "\\textbf{Dep. Variable:}   &    Direction     & \\textbf{  No. Observations:  } &     1088    \\\\\n",
       "\\textbf{Model:}           &      Logit       & \\textbf{  Df Residuals:      } &     1085    \\\\\n",
       "\\textbf{Method:}          &       MLE        & \\textbf{  Df Model:          } &        2    \\\\\n",
       "\\textbf{Date:}            & Sun, 23 Feb 2025 & \\textbf{  Pseudo R-squ.:     } &  0.005387   \\\\\n",
       "\\textbf{Time:}            &     19:45:48     & \\textbf{  Log-Likelihood:    } &   -743.26   \\\\\n",
       "\\textbf{converged:}       &       True       & \\textbf{  LL-Null:           } &   -747.29   \\\\\n",
       "\\textbf{Covariance Type:} &    nonrobust     & \\textbf{  LLR p-value:       } &  0.01785    \\\\\n",
       "\\bottomrule\n",
       "\\end{tabular}\n",
       "\\begin{tabular}{lcccccc}\n",
       "               & \\textbf{coef} & \\textbf{std err} & \\textbf{z} & \\textbf{P$> |$z$|$} & \\textbf{[0.025} & \\textbf{0.975]}  \\\\\n",
       "\\midrule\n",
       "\\textbf{const} &       0.2232  &        0.061     &     3.630  &         0.000        &        0.103    &        0.344     \\\\\n",
       "\\textbf{Lag1}  &      -0.0384  &        0.026     &    -1.466  &         0.143        &       -0.090    &        0.013     \\\\\n",
       "\\textbf{Lag2}  &       0.0608  &        0.027     &     2.291  &         0.022        &        0.009    &        0.113     \\\\\n",
       "\\bottomrule\n",
       "\\end{tabular}\n",
       "%\\caption{Logit Regression Results}\n",
       "\\end{center}"
      ],
      "text/plain": [
       "<class 'statsmodels.iolib.summary.Summary'>\n",
       "\"\"\"\n",
       "                           Logit Regression Results                           \n",
       "==============================================================================\n",
       "Dep. Variable:              Direction   No. Observations:                 1088\n",
       "Model:                          Logit   Df Residuals:                     1085\n",
       "Method:                           MLE   Df Model:                            2\n",
       "Date:                Sun, 23 Feb 2025   Pseudo R-squ.:                0.005387\n",
       "Time:                        19:45:48   Log-Likelihood:                -743.26\n",
       "converged:                       True   LL-Null:                       -747.29\n",
       "Covariance Type:            nonrobust   LLR p-value:                   0.01785\n",
       "==============================================================================\n",
       "                 coef    std err          z      P>|z|      [0.025      0.975]\n",
       "------------------------------------------------------------------------------\n",
       "const          0.2232      0.061      3.630      0.000       0.103       0.344\n",
       "Lag1          -0.0384      0.026     -1.466      0.143      -0.090       0.013\n",
       "Lag2           0.0608      0.027      2.291      0.022       0.009       0.113\n",
       "==============================================================================\n",
       "\"\"\""
      ]
     },
     "execution_count": 354,
     "metadata": {},
     "output_type": "execute_result"
    }
   ],
   "source": [
    "X=weekly.loc[1:len(weekly)-1,[\"Lag1\",\"Lag2\"]]\n",
    "y=weekly.loc[1:len(weekly)-1:,[\"Direction\"]]\n",
    "X = sm.add_constant(X)\n",
    "logit_model = sm.Logit(y, X)\n",
    "result = logit_model.fit()\n",
    "result.summary()"
   ]
  },
  {
   "cell_type": "markdown",
   "id": "480993a7-06a9-4a6b-b4f8-d32568586079",
   "metadata": {},
   "source": [
    "The result is actually quite similar to that of (a), lag1 doesn't have significant influence on direction, the odds increase 2.74% for every increase of lag2."
   ]
  },
  {
   "cell_type": "markdown",
   "id": "e8df1f53-baa1-43f7-9105-6972d2a757a7",
   "metadata": {},
   "source": [
    "#### (c)"
   ]
  },
  {
   "cell_type": "code",
   "execution_count": 358,
   "id": "54c5569a-3330-4c4f-8d4e-e86287f04450",
   "metadata": {},
   "outputs": [
    {
     "name": "stdout",
     "output_type": "stream",
     "text": [
      "1\n"
     ]
    },
    {
     "data": {
      "text/html": [
       "<div>\n",
       "<style scoped>\n",
       "    .dataframe tbody tr th:only-of-type {\n",
       "        vertical-align: middle;\n",
       "    }\n",
       "\n",
       "    .dataframe tbody tr th {\n",
       "        vertical-align: top;\n",
       "    }\n",
       "\n",
       "    .dataframe thead th {\n",
       "        text-align: right;\n",
       "    }\n",
       "</style>\n",
       "<table border=\"1\" class=\"dataframe\">\n",
       "  <thead>\n",
       "    <tr style=\"text-align: right;\">\n",
       "      <th></th>\n",
       "      <th>Unnamed: 0</th>\n",
       "      <th>Year</th>\n",
       "      <th>Lag1</th>\n",
       "      <th>Lag2</th>\n",
       "      <th>Lag3</th>\n",
       "      <th>Lag4</th>\n",
       "      <th>Lag5</th>\n",
       "      <th>Volume</th>\n",
       "      <th>Today</th>\n",
       "      <th>Direction</th>\n",
       "    </tr>\n",
       "  </thead>\n",
       "  <tbody>\n",
       "    <tr>\n",
       "      <th>0</th>\n",
       "      <td>0</td>\n",
       "      <td>1990</td>\n",
       "      <td>0.816</td>\n",
       "      <td>1.572</td>\n",
       "      <td>-3.936</td>\n",
       "      <td>-0.229</td>\n",
       "      <td>-3.484</td>\n",
       "      <td>0.154976</td>\n",
       "      <td>-0.27</td>\n",
       "      <td>0</td>\n",
       "    </tr>\n",
       "  </tbody>\n",
       "</table>\n",
       "</div>"
      ],
      "text/plain": [
       "   Unnamed: 0  Year   Lag1   Lag2   Lag3   Lag4   Lag5    Volume  Today  \\\n",
       "0           0  1990  0.816  1.572 -3.936 -0.229 -3.484  0.154976  -0.27   \n",
       "\n",
       "   Direction  \n",
       "0          0  "
      ]
     },
     "execution_count": 358,
     "metadata": {},
     "output_type": "execute_result"
    }
   ],
   "source": [
    "X_test = weekly.loc[[0], [\"Lag1\", \"Lag2\"]]\n",
    "X_test[\"constant\"]=1\n",
    "X_test = X_test[[\"constant\", \"Lag1\", \"Lag2\"]]\n",
    "predicted_prob = result.predict(X_test)\n",
    "predicted_class = 1 if predicted_prob.iloc[0] > 0.5 else 0\n",
    "print (predicted_class)\n",
    "weekly.head(1)"
   ]
  },
  {
   "cell_type": "markdown",
   "id": "189ca3bb-ccf2-43b1-b84d-5422fe2b7ad6",
   "metadata": {},
   "source": [
    "It's not correctly classified"
   ]
  },
  {
   "cell_type": "markdown",
   "id": "ff7f54df-9b33-4dd9-a4ab-8b6e7ef362f0",
   "metadata": {},
   "source": [
    "#### (d)"
   ]
  },
  {
   "cell_type": "markdown",
   "id": "4d36cb8d-0e86-4104-b2ac-0954e5f455a5",
   "metadata": {},
   "source": [
    "##### i"
   ]
  },
  {
   "cell_type": "code",
   "execution_count": 363,
   "id": "317c36b5-0466-4d5b-8b61-66869247e9e4",
   "metadata": {},
   "outputs": [],
   "source": [
    "n=len(weekly)\n",
    "for i in range (n):\n",
    "    X_train = weekly.drop(i)[[\"Lag1\", \"Lag2\"]]\n",
    "    y_train = weekly.drop(i)[\"Direction\"]\n",
    "    X_train[\"const\"] = 1\n",
    "    logit_model = sm.Logit(y_train, X_train)\n",
    "    result = logit_model.fit(disp=False) "
   ]
  },
  {
   "cell_type": "markdown",
   "id": "e3c6e725-902a-4e03-b3e3-31d67c7ecae1",
   "metadata": {},
   "source": [
    "##### ii"
   ]
  },
  {
   "cell_type": "code",
   "execution_count": 365,
   "id": "46e11893-5378-4113-8e2e-a3e80c6f9cf9",
   "metadata": {},
   "outputs": [],
   "source": [
    "for i in range(n):\n",
    "    X_train = weekly.drop(i)[[\"Lag1\", \"Lag2\"]]\n",
    "    y_train = weekly.drop(i)[\"Direction\"]\n",
    "    X_train[\"const\"] = 1\n",
    "    logit_model = sm.Logit(y_train, X_train)\n",
    "    result = logit_model.fit(disp=False) \n",
    "    X_test = weekly.loc[[i], [\"Lag1\", \"Lag2\"]] \n",
    "    X_test[\"const\"] = 1 \n",
    "    predicted_prob = result.predict(X_test)\n",
    "    predicted_class = 1 if predicted_prob.iloc[0] > 0.5 else 0"
   ]
  },
  {
   "cell_type": "markdown",
   "id": "72713dd6-1d46-411f-b9b3-f682bdc5eae5",
   "metadata": {},
   "source": [
    "##### iii"
   ]
  },
  {
   "cell_type": "code",
   "execution_count": 369,
   "id": "6bb7f2be-6a83-4334-93f3-5f62039d0c43",
   "metadata": {},
   "outputs": [
    {
     "name": "stdout",
     "output_type": "stream",
     "text": [
      "LOOCV Error Rate: 0.44995408631772266\n"
     ]
    }
   ],
   "source": [
    "errors=[]\n",
    "for i in range(n):\n",
    "    X_train = weekly.drop(i)[[\"Lag1\", \"Lag2\"]]\n",
    "    y_train = weekly.drop(i)[\"Direction\"]\n",
    "    X_train[\"const\"] = 1\n",
    "    logit_model = sm.Logit(y_train, X_train)\n",
    "    result = logit_model.fit(disp=False) \n",
    "    X_test = weekly.loc[[i], [\"Lag1\", \"Lag2\"]] \n",
    "    X_test[\"const\"] = 1  \n",
    "    predicted_prob = result.predict(X_test)\n",
    "    predicted_class = 1 if predicted_prob.iloc[0] > 0.5 else 0\n",
    "    actual_class = weekly.loc[i, \"Direction\"]\n",
    "    error = 1 if predicted_class != actual_class else 0\n",
    "    errors.append(error)\n",
    "loocv_error_rate = sum(errors) / n\n",
    "print(f\"LOOCV Error Rate: {loocv_error_rate}\")"
   ]
  },
  {
   "cell_type": "markdown",
   "id": "7feaec71-7f69-4e7d-b6d3-ca0df221e699",
   "metadata": {},
   "source": [
    "#### (e)"
   ]
  },
  {
   "cell_type": "markdown",
   "id": "c3ad6e9c-c34f-48b3-a795-023a919b04fc",
   "metadata": {},
   "source": [
    "That means the error rate of LOOCV method is 0.45, which is close to 50%, indicating that this method may not be very suitable."
   ]
  },
  {
   "cell_type": "code",
   "execution_count": 288,
   "id": "08b9122b-5976-4003-8eb0-06fd41dcde03",
   "metadata": {},
   "outputs": [
    {
     "name": "stderr",
     "output_type": "stream",
     "text": [
      "[NbConvertApp] Converting notebook stats_503_hw5.ipynb to html\n",
      "[NbConvertApp] WARNING | Alternative text is missing on 1 image(s).\n",
      "[NbConvertApp] Writing 370266 bytes to stats_503_hw5.html\n"
     ]
    }
   ],
   "source": [
    "!jupyter nbconvert --to html stats_503_hw5.ipynb"
   ]
  },
  {
   "cell_type": "code",
   "execution_count": null,
   "id": "15a07166-8a26-4aee-8826-26feae9f4cbd",
   "metadata": {},
   "outputs": [],
   "source": []
  }
 ],
 "metadata": {
  "kernelspec": {
   "display_name": "Python 3 (ipykernel)",
   "language": "python",
   "name": "python3"
  },
  "language_info": {
   "codemirror_mode": {
    "name": "ipython",
    "version": 3
   },
   "file_extension": ".py",
   "mimetype": "text/x-python",
   "name": "python",
   "nbconvert_exporter": "python",
   "pygments_lexer": "ipython3",
   "version": "3.12.7"
  }
 },
 "nbformat": 4,
 "nbformat_minor": 5
}
